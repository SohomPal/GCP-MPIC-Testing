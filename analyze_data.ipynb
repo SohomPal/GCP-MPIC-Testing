{
  "nbformat": 4,
  "nbformat_minor": 0,
  "metadata": {
    "colab": {
      "provenance": []
    },
    "kernelspec": {
      "name": "python3",
      "display_name": "Python 3"
    },
    "language_info": {
      "name": "python"
    }
  },
  "cells": [
    {
      "cell_type": "code",
      "execution_count": 1,
      "metadata": {
        "colab": {
          "base_uri": "https://localhost:8080/"
        },
        "id": "mUBV4wLmJw7O",
        "outputId": "68a4c07a-7afb-4989-d0e2-dc448ad1da41"
      },
      "outputs": [
        {
          "output_type": "stream",
          "name": "stdout",
          "text": [
            "Mounted at /content/drive\n"
          ]
        }
      ],
      "source": [
        "import json\n",
        "from google.colab import drive\n",
        "drive.mount('/content/drive')\n"
      ]
    },
    {
      "cell_type": "code",
      "source": [
        "# not sure if these values are correct [must double check]\n",
        "\n",
        "gg_total = 7\n",
        "cf_total = 7\n",
        "le_total = 5\n",
        "\n",
        "gg_quorum = 5\n",
        "cf_quorum = 5\n",
        "le_quorum = 3"
      ],
      "metadata": {
        "id": "FypgGMvjNDtQ"
      },
      "execution_count": 2,
      "outputs": []
    },
    {
      "cell_type": "code",
      "source": [
        "# code to read in and parse data\n",
        "\n",
        "input_file = '/content/drive/MyDrive/IW-F24/data/ips.json'\n",
        "output_folder = '/content/drive/MyDrive/IW-F24/analyzed-ips'\n",
        "\n",
        "with open(input_file, 'r') as file:\n",
        "    data = json.load(file)\n",
        "\n",
        "gg = data['gg']\n",
        "cf = data['cf']\n",
        "le = data['le']\n",
        "\n",
        "num_nodes = len(gg)\n",
        "\n",
        "print(num_nodes)\n",
        "\n",
        "# average resilience\n",
        "# which victim adversary attack pair is most likely to succeed\n",
        "\n"
      ],
      "metadata": {
        "colab": {
          "base_uri": "https://localhost:8080/"
        },
        "id": "IMRWdB1_z7j9",
        "outputId": "25a098e4-444e-439d-90d9-e667391e2383"
      },
      "execution_count": 8,
      "outputs": [
        {
          "output_type": "stream",
          "name": "stdout",
          "text": [
            "26\n"
          ]
        }
      ]
    },
    {
      "cell_type": "code",
      "source": [
        "# get average resilience + std deviation of every attack comb\n",
        "gg_avg_res = {}\n",
        "gg_run_avg = 0\n",
        "\n",
        "for victim in gg:\n",
        "  v_stat = {}\n",
        "  for adversary in gg[victim]:\n",
        "    attack = gg[victim][adversary]\n",
        "    v_stat[adversary] = 0\n",
        "    # tally number of failed attacks\n",
        "    for i in range(5):\n",
        "     count = len(attack[i])\n",
        "     if(count > gg_total - gg_quorum):\n",
        "      v_stat[adversary] += 1\n",
        "    v_stat[adversary] /= 5\n",
        "    gg_run_avg += v_stat[adversary]\n",
        "  gg_avg_res[victim] = v_stat\n",
        "\n",
        "gg_run_avg /= (num_nodes)*(num_nodes - 1)\n",
        "print(gg_run_avg)\n",
        "\n",
        "print(gg_avg_res)"
      ],
      "metadata": {
        "colab": {
          "base_uri": "https://localhost:8080/"
        },
        "id": "3bqW1YtdLy_r",
        "outputId": "6270c621-373f-47a7-b941-60292ae9cd2b"
      },
      "execution_count": 15,
      "outputs": [
        {
          "output_type": "stream",
          "name": "stdout",
          "text": [
            "0.3633846153846149\n",
            "{'ariatlanta': {'ariamsterdam': 0.0, 'arichicago': 1.0, 'aridallas': 0.8, 'arifrance': 0.0, 'arilondon': 0.0, 'arimadrid': 0.6, 'arimelbourne': 1.0, 'arimexicocity': 1.0, 'arimiami': 0.4, 'arimumbai': 0.4, 'aribangalore': 0.4, 'ariparis': 0.0, 'ariseattle': 0.4, 'ariseoul': 0.8, 'arisiliconvalley': 1.0, 'arisingapore': 0.0, 'aristockholm': 0.0, 'arisidney': 0.6, 'aritokyo': 0.0, 'aritoronto': 0.8, 'arila': 0.6, 'ariwarsaw': 0.2, 'arinj2': 0.0, 'arijohannesburg': 0.4, 'arisaopaulo': 0.6}, 'ariamsterdam': {'ariatlanta': 0.8, 'arichicago': 1.0, 'aridallas': 1.0, 'arifrance': 0.2, 'arilondon': 0.0, 'arimadrid': 0.4, 'arimelbourne': 1.0, 'arimexicocity': 1.0, 'arimiami': 0.8, 'arimumbai': 0.6, 'aribangalore': 0.6, 'ariparis': 0.8, 'ariseattle': 0.6, 'ariseoul': 1.0, 'arisiliconvalley': 0.4, 'arisingapore': 0.2, 'aristockholm': 0.8, 'arisidney': 0.0, 'aritokyo': 0.6, 'aritoronto': 0.8, 'arila': 0.2, 'ariwarsaw': 0.8, 'arinj2': 0.0, 'arijohannesburg': 0.4, 'arisaopaulo': 0.6}, 'arichicago': {'ariatlanta': 0.0, 'ariamsterdam': 0.0, 'aridallas': 0.8, 'arifrance': 0.0, 'arilondon': 0.0, 'arimadrid': 0.4, 'arimelbourne': 1.0, 'arimexicocity': 1.0, 'arimiami': 0.4, 'arimumbai': 0.6, 'aribangalore': 0.8, 'ariparis': 0.0, 'ariseattle': 0.4, 'ariseoul': 0.8, 'arisiliconvalley': 0.4, 'arisingapore': 0.2, 'aristockholm': 0.4, 'arisidney': 0.6, 'aritokyo': 0.0, 'aritoronto': 0.4, 'arila': 0.6, 'ariwarsaw': 0.4, 'arinj2': 0.0, 'arijohannesburg': 0.2, 'arisaopaulo': 0.8}, 'aridallas': {'ariatlanta': 0.0, 'ariamsterdam': 0.0, 'arichicago': 0.0, 'arifrance': 0.0, 'arilondon': 0.0, 'arimadrid': 0.2, 'arimelbourne': 1.0, 'arimexicocity': 1.0, 'arimiami': 0.0, 'arimumbai': 0.4, 'aribangalore': 0.6, 'ariparis': 0.0, 'ariseattle': 0.6, 'ariseoul': 0.8, 'arisiliconvalley': 0.4, 'arisingapore': 0.0, 'aristockholm': 0.4, 'arisidney': 1.0, 'aritokyo': 0.0, 'aritoronto': 0.2, 'arila': 0.2, 'ariwarsaw': 0.2, 'arinj2': 0.0, 'arijohannesburg': 0.8, 'arisaopaulo': 0.4}, 'arifrance': {'ariatlanta': 0.8, 'ariamsterdam': 0.4, 'arichicago': 0.8, 'aridallas': 0.8, 'arilondon': 0.0, 'arimadrid': 1.0, 'arimelbourne': 1.0, 'arimexicocity': 1.0, 'arimiami': 0.0, 'arimumbai': 1.0, 'aribangalore': 1.0, 'ariparis': 0.0, 'ariseattle': 0.2, 'ariseoul': 0.8, 'arisiliconvalley': 0.4, 'arisingapore': 0.4, 'aristockholm': 0.8, 'arisidney': 0.8, 'aritokyo': 0.2, 'aritoronto': 0.8, 'arila': 0.2, 'ariwarsaw': 0.8, 'arinj2': 0.0, 'arijohannesburg': 1.0, 'arisaopaulo': 0.8}, 'arilondon': {'ariatlanta': 0.8, 'ariamsterdam': 1.0, 'arichicago': 1.0, 'aridallas': 0.8, 'arifrance': 0.6, 'arimadrid': 1.0, 'arimelbourne': 1.0, 'arimexicocity': 1.0, 'arimiami': 0.6, 'arimumbai': 0.6, 'aribangalore': 1.0, 'ariparis': 0.4, 'ariseattle': 0.6, 'ariseoul': 0.8, 'arisiliconvalley': 1.0, 'arisingapore': 0.2, 'aristockholm': 1.0, 'arisidney': 0.8, 'aritokyo': 0.6, 'aritoronto': 0.8, 'arila': 0.6, 'ariwarsaw': 1.0, 'arinj2': 0.0, 'arijohannesburg': 0.8, 'arisaopaulo': 1.0}, 'arimadrid': {'ariatlanta': 0.0, 'ariamsterdam': 0.0, 'arichicago': 0.0, 'aridallas': 0.2, 'arifrance': 0.0, 'arilondon': 0.0, 'arimelbourne': 1.0, 'arimexicocity': 0.4, 'arimiami': 0.2, 'arimumbai': 0.6, 'aribangalore': 0.6, 'ariparis': 0.0, 'ariseattle': 0.6, 'ariseoul': 0.8, 'arisiliconvalley': 0.0, 'arisingapore': 0.0, 'aristockholm': 0.4, 'arisidney': 0.4, 'aritokyo': 0.2, 'aritoronto': 0.0, 'arila': 0.0, 'ariwarsaw': 0.6, 'arinj2': 0.0, 'arijohannesburg': 0.8, 'arisaopaulo': 0.6}, 'arimelbourne': {'ariatlanta': 0.0, 'ariamsterdam': 0.0, 'arichicago': 0.0, 'aridallas': 0.0, 'arifrance': 0.0, 'arilondon': 0.0, 'arimadrid': 0.0, 'arimexicocity': 0.0, 'arimiami': 0.0, 'arimumbai': 0.2, 'aribangalore': 0.0, 'ariparis': 0.0, 'ariseattle': 0.0, 'ariseoul': 0.0, 'arisiliconvalley': 0.0, 'arisingapore': 0.0, 'aristockholm': 0.0, 'arisidney': 0.0, 'aritokyo': 0.0, 'aritoronto': 0.0, 'arila': 0.0, 'ariwarsaw': 0.0, 'arinj2': 0.0, 'arijohannesburg': 0.0, 'arisaopaulo': 0.0}, 'arimexicocity': {'ariatlanta': 0.0, 'ariamsterdam': 0.0, 'arichicago': 0.0, 'aridallas': 0.0, 'arifrance': 0.0, 'arilondon': 0.0, 'arimadrid': 0.0, 'arimelbourne': 1.0, 'arimiami': 0.0, 'arimumbai': 0.6, 'aribangalore': 0.4, 'ariparis': 0.0, 'ariseattle': 0.0, 'ariseoul': 1.0, 'arisiliconvalley': 0.2, 'arisingapore': 0.0, 'aristockholm': 0.0, 'arisidney': 0.6, 'aritokyo': 0.0, 'aritoronto': 0.0, 'arila': 0.0, 'ariwarsaw': 0.2, 'arinj2': 0.0, 'arijohannesburg': 0.2, 'arisaopaulo': 0.0}, 'arimiami': {'ariatlanta': 0.0, 'ariamsterdam': 0.0, 'arichicago': 0.0, 'aridallas': 1.0, 'arifrance': 0.2, 'arilondon': 0.0, 'arimadrid': 0.2, 'arimelbourne': 1.0, 'arimexicocity': 1.0, 'arimumbai': 0.6, 'aribangalore': 0.4, 'ariparis': 0.0, 'ariseattle': 1.0, 'ariseoul': 0.8, 'arisiliconvalley': 0.8, 'arisingapore': 0.6, 'aristockholm': 0.2, 'arisidney': 0.8, 'aritokyo': 0.2, 'aritoronto': 0.4, 'arila': 0.8, 'ariwarsaw': 0.0, 'arinj2': 0.0, 'arijohannesburg': 0.8, 'arisaopaulo': 0.2}, 'arimumbai': {'ariatlanta': 0.2, 'ariamsterdam': 0.2, 'arichicago': 0.2, 'aridallas': 0.2, 'arifrance': 0.0, 'arilondon': 0.0, 'arimadrid': 0.0, 'arimelbourne': 0.2, 'arimexicocity': 0.4, 'arimiami': 0.0, 'aribangalore': 0.8, 'ariparis': 0.0, 'ariseattle': 0.0, 'ariseoul': 0.0, 'arisiliconvalley': 0.0, 'arisingapore': 0.0, 'aristockholm': 0.0, 'arisidney': 0.0, 'aritokyo': 0.0, 'aritoronto': 0.0, 'arila': 0.0, 'ariwarsaw': 0.0, 'arinj2': 0.0, 'arijohannesburg': 0.0, 'arisaopaulo': 0.0}, 'aribangalore': {'ariatlanta': 0.0, 'ariamsterdam': 0.2, 'arichicago': 0.0, 'aridallas': 0.0, 'arifrance': 0.0, 'arilondon': 0.0, 'arimadrid': 0.0, 'arimelbourne': 0.2, 'arimexicocity': 0.0, 'arimiami': 0.0, 'arimumbai': 0.0, 'ariparis': 0.0, 'ariseattle': 0.0, 'ariseoul': 0.0, 'arisiliconvalley': 0.2, 'arisingapore': 0.2, 'aristockholm': 0.0, 'arisidney': 0.2, 'aritokyo': 0.2, 'aritoronto': 0.2, 'arila': 0.0, 'ariwarsaw': 0.2, 'arinj2': 0.0, 'arijohannesburg': 0.0, 'arisaopaulo': 0.2}, 'ariparis': {'ariatlanta': 0.6, 'ariamsterdam': 0.0, 'arichicago': 1.0, 'aridallas': 1.0, 'arifrance': 0.8, 'arilondon': 0.0, 'arimadrid': 0.8, 'arimelbourne': 1.0, 'arimexicocity': 1.0, 'arimiami': 0.6, 'arimumbai': 0.8, 'aribangalore': 0.6, 'ariseattle': 0.8, 'ariseoul': 1.0, 'arisiliconvalley': 0.6, 'arisingapore': 0.2, 'aristockholm': 1.0, 'arisidney': 0.8, 'aritokyo': 0.8, 'aritoronto': 0.6, 'arila': 0.4, 'ariwarsaw': 1.0, 'arinj2': 0.0, 'arijohannesburg': 0.6, 'arisaopaulo': 0.4}, 'ariseattle': {'ariatlanta': 0.0, 'ariamsterdam': 0.0, 'arichicago': 0.0, 'aridallas': 0.2, 'arifrance': 0.2, 'arilondon': 0.2, 'arimadrid': 0.2, 'arimelbourne': 1.0, 'arimexicocity': 0.6, 'arimiami': 0.0, 'arimumbai': 0.4, 'aribangalore': 0.4, 'ariparis': 0.0, 'ariseoul': 0.8, 'arisiliconvalley': 0.8, 'arisingapore': 0.0, 'aristockholm': 0.0, 'arisidney': 0.8, 'aritokyo': 0.0, 'aritoronto': 0.0, 'arila': 0.0, 'ariwarsaw': 0.0, 'arinj2': 0.0, 'arijohannesburg': 0.6, 'arisaopaulo': 0.2}, 'ariseoul': {'ariatlanta': 0.2, 'ariamsterdam': 0.0, 'arichicago': 0.0, 'aridallas': 0.0, 'arifrance': 0.0, 'arilondon': 0.0, 'arimadrid': 0.2, 'arimelbourne': 1.0, 'arimexicocity': 0.0, 'arimiami': 0.0, 'arimumbai': 1.0, 'aribangalore': 0.4, 'ariparis': 0.0, 'ariseattle': 0.0, 'arisiliconvalley': 0.0, 'arisingapore': 0.0, 'aristockholm': 0.0, 'arisidney': 0.2, 'aritokyo': 0.0, 'aritoronto': 0.0, 'arila': 0.0, 'ariwarsaw': 0.0, 'arinj2': 0.0, 'arijohannesburg': 0.0, 'arisaopaulo': 0.6}, 'arisiliconvalley': {'ariatlanta': 0.0, 'ariamsterdam': 0.0, 'arichicago': 0.4, 'aridallas': 0.0, 'arifrance': 0.2, 'arilondon': 0.0, 'arimadrid': 0.4, 'arimelbourne': 1.0, 'arimexicocity': 0.6, 'arimiami': 0.0, 'arimumbai': 1.0, 'aribangalore': 0.2, 'ariparis': 0.0, 'ariseattle': 0.2, 'ariseoul': 0.6, 'arisingapore': 0.2, 'aristockholm': 0.0, 'arisidney': 0.8, 'aritokyo': 0.0, 'aritoronto': 0.2, 'arila': 0.0, 'ariwarsaw': 0.2, 'arinj2': 0.0, 'arijohannesburg': 1.0, 'arisaopaulo': 1.0}, 'arisingapore': {'ariatlanta': 0.6, 'ariamsterdam': 0.0, 'arichicago': 0.4, 'aridallas': 1.0, 'arifrance': 0.4, 'arilondon': 0.2, 'arimadrid': 0.6, 'arimelbourne': 1.0, 'arimexicocity': 1.0, 'arimiami': 0.0, 'arimumbai': 1.0, 'aribangalore': 0.6, 'ariparis': 0.2, 'ariseattle': 0.2, 'ariseoul': 0.8, 'arisiliconvalley': 0.8, 'aristockholm': 1.0, 'arisidney': 1.0, 'aritokyo': 0.8, 'aritoronto': 1.0, 'arila': 0.2, 'ariwarsaw': 0.4, 'arinj2': 0.2, 'arijohannesburg': 0.6, 'arisaopaulo': 0.6}, 'aristockholm': {'ariatlanta': 0.0, 'ariamsterdam': 0.0, 'arichicago': 0.0, 'aridallas': 0.4, 'arifrance': 0.0, 'arilondon': 0.0, 'arimadrid': 0.0, 'arimelbourne': 1.0, 'arimexicocity': 0.8, 'arimiami': 0.0, 'arimumbai': 1.0, 'aribangalore': 0.8, 'ariparis': 0.0, 'ariseattle': 0.4, 'ariseoul': 1.0, 'arisiliconvalley': 0.6, 'arisingapore': 0.0, 'arisidney': 1.0, 'aritokyo': 0.2, 'aritoronto': 0.2, 'arila': 0.2, 'ariwarsaw': 0.0, 'arinj2': 0.0, 'arijohannesburg': 0.4, 'arisaopaulo': 0.4}, 'arisidney': {'ariatlanta': 0.0, 'ariamsterdam': 0.0, 'arichicago': 0.0, 'aridallas': 0.0, 'arifrance': 0.0, 'arilondon': 0.0, 'arimadrid': 0.0, 'arimelbourne': 1.0, 'arimexicocity': 0.0, 'arimiami': 0.0, 'arimumbai': 1.0, 'aribangalore': 0.4, 'ariparis': 0.0, 'ariseattle': 0.0, 'ariseoul': 0.6, 'arisiliconvalley': 0.0, 'arisingapore': 0.0, 'aristockholm': 0.0, 'aritokyo': 0.0, 'aritoronto': 0.0, 'arila': 0.0, 'ariwarsaw': 0.2, 'arinj2': 0.0, 'arijohannesburg': 0.0, 'arisaopaulo': 0.0}, 'aritokyo': {'ariatlanta': 0.4, 'ariamsterdam': 0.0, 'arichicago': 0.4, 'aridallas': 0.4, 'arifrance': 0.0, 'arilondon': 0.0, 'arimadrid': 0.0, 'arimelbourne': 1.0, 'arimexicocity': 1.0, 'arimiami': 0.2, 'arimumbai': 1.0, 'aribangalore': 0.4, 'ariparis': 0.0, 'ariseattle': 0.2, 'ariseoul': 1.0, 'arisiliconvalley': 0.2, 'arisingapore': 0.0, 'aristockholm': 0.0, 'arisidney': 1.0, 'aritoronto': 0.8, 'arila': 0.0, 'ariwarsaw': 0.0, 'arinj2': 0.0, 'arijohannesburg': 0.0, 'arisaopaulo': 0.6}, 'aritoronto': {'ariatlanta': 0.0, 'ariamsterdam': 0.0, 'arichicago': 0.0, 'aridallas': 0.2, 'arifrance': 0.0, 'arilondon': 0.0, 'arimadrid': 0.2, 'arimelbourne': 1.0, 'arimexicocity': 1.0, 'arimiami': 0.2, 'arimumbai': 1.0, 'aribangalore': 0.6, 'ariparis': 0.0, 'ariseattle': 1.0, 'ariseoul': 0.8, 'arisiliconvalley': 0.6, 'arisingapore': 0.0, 'aristockholm': 0.2, 'arisidney': 0.6, 'aritokyo': 0.0, 'arila': 0.2, 'ariwarsaw': 0.0, 'arinj2': 0.0, 'arijohannesburg': 0.2, 'arisaopaulo': 0.6}, 'arila': {'ariatlanta': 0.0, 'ariamsterdam': 0.2, 'arichicago': 0.2, 'aridallas': 0.4, 'arifrance': 0.0, 'arilondon': 0.0, 'arimadrid': 0.6, 'arimelbourne': 1.0, 'arimexicocity': 1.0, 'arimiami': 0.0, 'arimumbai': 1.0, 'aribangalore': 0.8, 'ariparis': 0.4, 'ariseattle': 1.0, 'ariseoul': 0.8, 'arisiliconvalley': 0.8, 'arisingapore': 0.2, 'aristockholm': 0.0, 'arisidney': 1.0, 'aritokyo': 1.0, 'aritoronto': 0.0, 'ariwarsaw': 0.8, 'arinj2': 0.0, 'arijohannesburg': 0.6, 'arisaopaulo': 1.0}, 'ariwarsaw': {'ariatlanta': 0.0, 'ariamsterdam': 0.0, 'arichicago': 0.0, 'aridallas': 0.2, 'arifrance': 0.0, 'arilondon': 0.0, 'arimadrid': 0.2, 'arimelbourne': 1.0, 'arimexicocity': 0.8, 'arimiami': 0.2, 'arimumbai': 1.0, 'aribangalore': 0.4, 'ariparis': 0.0, 'ariseattle': 1.0, 'ariseoul': 0.6, 'arisiliconvalley': 0.4, 'arisingapore': 0.2, 'aristockholm': 1.0, 'arisidney': 0.6, 'aritokyo': 0.6, 'aritoronto': 0.4, 'arila': 0.0, 'arinj2': 0.0, 'arijohannesburg': 0.4, 'arisaopaulo': 0.8}, 'arinj2': {'ariatlanta': 1.0, 'ariamsterdam': 0.8, 'arichicago': 1.0, 'aridallas': 1.0, 'arifrance': 0.4, 'arilondon': 0.4, 'arimadrid': 0.8, 'arimelbourne': 1.0, 'arimexicocity': 1.0, 'arimiami': 1.0, 'arimumbai': 1.0, 'aribangalore': 0.6, 'ariparis': 1.0, 'ariseattle': 1.0, 'ariseoul': 0.8, 'arisiliconvalley': 1.0, 'arisingapore': 0.2, 'aristockholm': 1.0, 'arisidney': 1.0, 'aritokyo': 0.6, 'aritoronto': 1.0, 'arila': 1.0, 'ariwarsaw': 0.6, 'arijohannesburg': 0.4, 'arisaopaulo': 1.0}, 'arijohannesburg': {'ariatlanta': 0.2, 'ariamsterdam': 0.4, 'arichicago': 0.2, 'aridallas': 0.0, 'arifrance': 0.0, 'arilondon': 0.0, 'arimadrid': 0.2, 'arimelbourne': 1.0, 'arimexicocity': 0.2, 'arimiami': 0.0, 'arimumbai': 1.0, 'aribangalore': 0.4, 'ariparis': 0.0, 'ariseattle': 0.2, 'ariseoul': 0.4, 'arisiliconvalley': 0.0, 'arisingapore': 0.0, 'aristockholm': 0.4, 'arisidney': 0.4, 'aritokyo': 0.4, 'aritoronto': 0.2, 'arila': 0.0, 'ariwarsaw': 0.2, 'arinj2': 0.0, 'arisaopaulo': 1.0}, 'arisaopaulo': {'ariatlanta': 0.0, 'ariamsterdam': 0.2, 'arichicago': 0.0, 'aridallas': 0.2, 'arifrance': 0.0, 'arilondon': 0.0, 'arimadrid': 0.0, 'arimelbourne': 1.0, 'arimexicocity': 0.2, 'arimiami': 0.0, 'arimumbai': 0.8, 'aribangalore': 0.0, 'ariparis': 0.2, 'ariseattle': 0.2, 'ariseoul': 0.0, 'arisiliconvalley': 0.0, 'arisingapore': 0.0, 'aristockholm': 0.0, 'arisidney': 0.8, 'aritokyo': 0.2, 'aritoronto': 0.0, 'arila': 0.0, 'ariwarsaw': 0.0, 'arinj2': 0.0, 'arijohannesburg': 0.0}}\n"
          ]
        }
      ]
    },
    {
      "cell_type": "code",
      "source": [
        "# repeat same for cf\n",
        "cf_avg_res = {}\n",
        "cf_run_avg = 0\n",
        "\n",
        "for victim in cf:\n",
        "  v_stat = {}\n",
        "  for adversary in cf[victim]:\n",
        "    attack = cf[victim][adversary]\n",
        "    v_stat[adversary] = 0\n",
        "    # tally number of failed attacks\n",
        "    for i in range(5):\n",
        "     count = len(attack[i])\n",
        "     if(count > cf_total - cf_quorum):\n",
        "      v_stat[adversary] += 1\n",
        "    v_stat[adversary] /= 5\n",
        "    cf_run_avg += v_stat[adversary]\n",
        "  cf_avg_res[victim] = v_stat\n",
        "\n",
        "cf_run_avg /= (num_nodes)*(num_nodes - 1)\n",
        "print(cf_run_avg)\n",
        "\n",
        "print(cf_avg_res)"
      ],
      "metadata": {
        "colab": {
          "base_uri": "https://localhost:8080/"
        },
        "id": "TFvaHQlELzlH",
        "outputId": "83d1fd04-11db-4288-884c-31c84612c9a6"
      },
      "execution_count": 13,
      "outputs": [
        {
          "output_type": "stream",
          "name": "stdout",
          "text": [
            "0.6489230769230766\n",
            "{'ariatlanta': {'ariamsterdam': 1.0, 'arichicago': 1.0, 'aridallas': 0.4, 'arifrance': 0.0, 'arilondon': 1.0, 'arimadrid': 1.0, 'arimelbourne': 0.4, 'arimexicocity': 0.4, 'arimiami': 0.6, 'arimumbai': 0.0, 'aribangalore': 0.2, 'ariparis': 1.0, 'ariseattle': 0.0, 'ariseoul': 0.4, 'arisiliconvalley': 0.2, 'arisingapore': 0.0, 'aristockholm': 0.0, 'arisidney': 0.6, 'aritokyo': 0.0, 'aritoronto': 1.0, 'arila': 0.2, 'ariwarsaw': 1.0, 'arinj2': 0.0, 'arijohannesburg': 0.2, 'arisaopaulo': 1.0}, 'ariamsterdam': {'ariatlanta': 1.0, 'arichicago': 1.0, 'aridallas': 1.0, 'arifrance': 0.2, 'arilondon': 0.2, 'arimadrid': 1.0, 'arimelbourne': 1.0, 'arimexicocity': 0.8, 'arimiami': 1.0, 'arimumbai': 0.4, 'aribangalore': 0.2, 'ariparis': 0.6, 'ariseattle': 0.6, 'ariseoul': 0.8, 'arisiliconvalley': 1.0, 'arisingapore': 0.0, 'aristockholm': 1.0, 'arisidney': 1.0, 'aritokyo': 0.8, 'aritoronto': 1.0, 'arila': 1.0, 'ariwarsaw': 1.0, 'arinj2': 1.0, 'arijohannesburg': 0.8, 'arisaopaulo': 1.0}, 'arichicago': {'ariatlanta': 0.0, 'ariamsterdam': 1.0, 'aridallas': 0.6, 'arifrance': 0.0, 'arilondon': 1.0, 'arimadrid': 1.0, 'arimelbourne': 0.0, 'arimexicocity': 0.6, 'arimiami': 0.8, 'arimumbai': 0.8, 'aribangalore': 0.4, 'ariparis': 1.0, 'ariseattle': 0.8, 'ariseoul': 1.0, 'arisiliconvalley': 1.0, 'arisingapore': 1.0, 'aristockholm': 0.8, 'arisidney': 1.0, 'aritokyo': 1.0, 'aritoronto': 1.0, 'arila': 1.0, 'ariwarsaw': 1.0, 'arinj2': 1.0, 'arijohannesburg': 1.0, 'arisaopaulo': 1.0}, 'aridallas': {'ariatlanta': 1.0, 'ariamsterdam': 1.0, 'arichicago': 1.0, 'arifrance': 1.0, 'arilondon': 1.0, 'arimadrid': 1.0, 'arimelbourne': 1.0, 'arimexicocity': 1.0, 'arimiami': 1.0, 'arimumbai': 0.4, 'aribangalore': 0.6, 'ariparis': 1.0, 'ariseattle': 1.0, 'ariseoul': 0.4, 'arisiliconvalley': 1.0, 'arisingapore': 0.0, 'aristockholm': 1.0, 'arisidney': 1.0, 'aritokyo': 1.0, 'aritoronto': 0.0, 'arila': 1.0, 'ariwarsaw': 1.0, 'arinj2': 0.2, 'arijohannesburg': 1.0, 'arisaopaulo': 1.0}, 'arifrance': {'ariatlanta': 1.0, 'ariamsterdam': 1.0, 'arichicago': 1.0, 'aridallas': 0.0, 'arilondon': 0.2, 'arimadrid': 1.0, 'arimelbourne': 1.0, 'arimexicocity': 1.0, 'arimiami': 0.0, 'arimumbai': 0.6, 'aribangalore': 0.4, 'ariparis': 0.2, 'ariseattle': 0.0, 'ariseoul': 0.4, 'arisiliconvalley': 1.0, 'arisingapore': 0.0, 'aristockholm': 0.2, 'arisidney': 1.0, 'aritokyo': 0.0, 'aritoronto': 0.6, 'arila': 0.0, 'ariwarsaw': 1.0, 'arinj2': 0.0, 'arijohannesburg': 1.0, 'arisaopaulo': 1.0}, 'arilondon': {'ariatlanta': 1.0, 'ariamsterdam': 1.0, 'arichicago': 1.0, 'aridallas': 0.0, 'arifrance': 1.0, 'arimadrid': 1.0, 'arimelbourne': 1.0, 'arimexicocity': 0.4, 'arimiami': 0.0, 'arimumbai': 0.2, 'aribangalore': 0.0, 'ariparis': 1.0, 'ariseattle': 0.0, 'ariseoul': 0.0, 'arisiliconvalley': 1.0, 'arisingapore': 0.0, 'aristockholm': 1.0, 'arisidney': 1.0, 'aritokyo': 0.2, 'aritoronto': 0.0, 'arila': 0.0, 'ariwarsaw': 1.0, 'arinj2': 0.0, 'arijohannesburg': 1.0, 'arisaopaulo': 1.0}, 'arimadrid': {'ariatlanta': 1.0, 'ariamsterdam': 0.0, 'arichicago': 1.0, 'aridallas': 0.0, 'arifrance': 0.0, 'arilondon': 0.0, 'arimelbourne': 1.0, 'arimexicocity': 0.0, 'arimiami': 0.0, 'arimumbai': 0.0, 'aribangalore': 0.2, 'ariparis': 0.0, 'ariseattle': 0.0, 'ariseoul': 0.2, 'arisiliconvalley': 1.0, 'arisingapore': 0.0, 'aristockholm': 0.2, 'arisidney': 1.0, 'aritokyo': 0.0, 'aritoronto': 0.0, 'arila': 0.0, 'ariwarsaw': 0.2, 'arinj2': 0.0, 'arijohannesburg': 1.0, 'arisaopaulo': 1.0}, 'arimelbourne': {'ariatlanta': 1.0, 'ariamsterdam': 1.0, 'arichicago': 1.0, 'aridallas': 0.0, 'arifrance': 0.0, 'arilondon': 0.0, 'arimadrid': 0.0, 'arimexicocity': 0.0, 'arimiami': 0.0, 'arimumbai': 0.4, 'aribangalore': 1.0, 'ariparis': 0.4, 'ariseattle': 0.0, 'ariseoul': 0.0, 'arisiliconvalley': 0.0, 'arisingapore': 0.0, 'aristockholm': 0.0, 'arisidney': 0.0, 'aritokyo': 0.0, 'aritoronto': 0.0, 'arila': 0.0, 'ariwarsaw': 0.0, 'arinj2': 0.0, 'arijohannesburg': 0.0, 'arisaopaulo': 0.6}, 'arimexicocity': {'ariatlanta': 1.0, 'ariamsterdam': 1.0, 'arichicago': 1.0, 'aridallas': 0.0, 'arifrance': 1.0, 'arilondon': 1.0, 'arimadrid': 1.0, 'arimelbourne': 1.0, 'arimiami': 0.0, 'arimumbai': 0.0, 'aribangalore': 0.0, 'ariparis': 1.0, 'ariseattle': 0.0, 'ariseoul': 0.0, 'arisiliconvalley': 1.0, 'arisingapore': 0.0, 'aristockholm': 1.0, 'arisidney': 1.0, 'aritokyo': 1.0, 'aritoronto': 0.0, 'arila': 0.0, 'ariwarsaw': 1.0, 'arinj2': 0.0, 'arijohannesburg': 1.0, 'arisaopaulo': 1.0}, 'arimiami': {'ariatlanta': 1.0, 'ariamsterdam': 1.0, 'arichicago': 1.0, 'aridallas': 0.0, 'arifrance': 1.0, 'arilondon': 1.0, 'arimadrid': 1.0, 'arimelbourne': 1.0, 'arimexicocity': 1.0, 'arimumbai': 0.2, 'aribangalore': 0.0, 'ariparis': 1.0, 'ariseattle': 0.2, 'ariseoul': 0.6, 'arisiliconvalley': 1.0, 'arisingapore': 0.0, 'aristockholm': 1.0, 'arisidney': 1.0, 'aritokyo': 1.0, 'aritoronto': 0.6, 'arila': 1.0, 'ariwarsaw': 1.0, 'arinj2': 0.0, 'arijohannesburg': 1.0, 'arisaopaulo': 1.0}, 'arimumbai': {'ariatlanta': 1.0, 'ariamsterdam': 1.0, 'arichicago': 1.0, 'aridallas': 1.0, 'arifrance': 1.0, 'arilondon': 1.0, 'arimadrid': 1.0, 'arimelbourne': 1.0, 'arimexicocity': 1.0, 'arimiami': 1.0, 'aribangalore': 1.0, 'ariparis': 1.0, 'ariseattle': 0.6, 'ariseoul': 0.0, 'arisiliconvalley': 0.0, 'arisingapore': 0.0, 'aristockholm': 0.0, 'arisidney': 0.0, 'aritokyo': 0.0, 'aritoronto': 0.0, 'arila': 0.0, 'ariwarsaw': 0.0, 'arinj2': 0.0, 'arijohannesburg': 0.0, 'arisaopaulo': 0.0}, 'aribangalore': {'ariatlanta': 1.0, 'ariamsterdam': 1.0, 'arichicago': 1.0, 'aridallas': 1.0, 'arifrance': 1.0, 'arilondon': 1.0, 'arimadrid': 1.0, 'arimelbourne': 1.0, 'arimexicocity': 1.0, 'arimiami': 1.0, 'arimumbai': 0.0, 'ariparis': 1.0, 'ariseattle': 1.0, 'ariseoul': 0.8, 'arisiliconvalley': 1.0, 'arisingapore': 0.0, 'aristockholm': 1.0, 'arisidney': 1.0, 'aritokyo': 0.8, 'aritoronto': 1.0, 'arila': 0.6, 'ariwarsaw': 1.0, 'arinj2': 0.8, 'arijohannesburg': 0.2, 'arisaopaulo': 1.0}, 'ariparis': {'ariatlanta': 1.0, 'ariamsterdam': 1.0, 'arichicago': 1.0, 'aridallas': 0.0, 'arifrance': 1.0, 'arilondon': 0.2, 'arimadrid': 1.0, 'arimelbourne': 1.0, 'arimexicocity': 1.0, 'arimiami': 0.0, 'arimumbai': 0.4, 'aribangalore': 0.2, 'ariseattle': 0.0, 'ariseoul': 0.0, 'arisiliconvalley': 0.8, 'arisingapore': 0.0, 'aristockholm': 1.0, 'arisidney': 1.0, 'aritokyo': 0.0, 'aritoronto': 0.4, 'arila': 0.0, 'ariwarsaw': 1.0, 'arinj2': 0.0, 'arijohannesburg': 0.8, 'arisaopaulo': 1.0}, 'ariseattle': {'ariatlanta': 1.0, 'ariamsterdam': 1.0, 'arichicago': 1.0, 'aridallas': 0.2, 'arifrance': 1.0, 'arilondon': 1.0, 'arimadrid': 1.0, 'arimelbourne': 1.0, 'arimexicocity': 1.0, 'arimiami': 1.0, 'arimumbai': 1.0, 'aribangalore': 0.8, 'ariparis': 1.0, 'ariseoul': 0.8, 'arisiliconvalley': 0.8, 'arisingapore': 0.6, 'aristockholm': 1.0, 'arisidney': 1.0, 'aritokyo': 1.0, 'aritoronto': 0.8, 'arila': 0.6, 'ariwarsaw': 1.0, 'arinj2': 0.4, 'arijohannesburg': 1.0, 'arisaopaulo': 1.0}, 'ariseoul': {'ariatlanta': 1.0, 'ariamsterdam': 1.0, 'arichicago': 0.4, 'aridallas': 1.0, 'arifrance': 1.0, 'arilondon': 1.0, 'arimadrid': 1.0, 'arimelbourne': 1.0, 'arimexicocity': 1.0, 'arimiami': 1.0, 'arimumbai': 1.0, 'aribangalore': 1.0, 'ariparis': 1.0, 'ariseattle': 1.0, 'arisiliconvalley': 0.6, 'arisingapore': 0.0, 'aristockholm': 0.6, 'arisidney': 0.6, 'aritokyo': 0.2, 'aritoronto': 1.0, 'arila': 0.8, 'ariwarsaw': 1.0, 'arinj2': 0.8, 'arijohannesburg': 1.0, 'arisaopaulo': 1.0}, 'arisiliconvalley': {'ariatlanta': 1.0, 'ariamsterdam': 1.0, 'arichicago': 0.8, 'aridallas': 0.0, 'arifrance': 0.6, 'arilondon': 0.2, 'arimadrid': 1.0, 'arimelbourne': 1.0, 'arimexicocity': 1.0, 'arimiami': 0.2, 'arimumbai': 1.0, 'aribangalore': 0.8, 'ariparis': 1.0, 'ariseattle': 1.0, 'ariseoul': 0.8, 'arisingapore': 0.4, 'aristockholm': 1.0, 'arisidney': 1.0, 'aritokyo': 1.0, 'aritoronto': 0.8, 'arila': 0.8, 'ariwarsaw': 1.0, 'arinj2': 0.2, 'arijohannesburg': 1.0, 'arisaopaulo': 1.0}, 'arisingapore': {'ariatlanta': 1.0, 'ariamsterdam': 1.0, 'arichicago': 1.0, 'aridallas': 1.0, 'arifrance': 1.0, 'arilondon': 1.0, 'arimadrid': 1.0, 'arimelbourne': 1.0, 'arimexicocity': 1.0, 'arimiami': 1.0, 'arimumbai': 1.0, 'aribangalore': 1.0, 'ariparis': 1.0, 'ariseattle': 1.0, 'ariseoul': 1.0, 'arisiliconvalley': 1.0, 'aristockholm': 1.0, 'arisidney': 1.0, 'aritokyo': 1.0, 'aritoronto': 1.0, 'arila': 1.0, 'ariwarsaw': 1.0, 'arinj2': 0.6, 'arijohannesburg': 1.0, 'arisaopaulo': 1.0}, 'aristockholm': {'ariatlanta': 1.0, 'ariamsterdam': 0.8, 'arichicago': 1.0, 'aridallas': 0.0, 'arifrance': 1.0, 'arilondon': 0.2, 'arimadrid': 1.0, 'arimelbourne': 1.0, 'arimexicocity': 0.2, 'arimiami': 0.8, 'arimumbai': 1.0, 'aribangalore': 0.4, 'ariparis': 1.0, 'ariseattle': 0.4, 'ariseoul': 1.0, 'arisiliconvalley': 1.0, 'arisingapore': 0.2, 'arisidney': 1.0, 'aritokyo': 0.6, 'aritoronto': 1.0, 'arila': 0.4, 'ariwarsaw': 1.0, 'arinj2': 0.2, 'arijohannesburg': 1.0, 'arisaopaulo': 1.0}, 'arisidney': {'ariatlanta': 1.0, 'ariamsterdam': 1.0, 'arichicago': 0.6, 'aridallas': 0.0, 'arifrance': 0.0, 'arilondon': 0.2, 'arimadrid': 0.4, 'arimelbourne': 1.0, 'arimexicocity': 0.0, 'arimiami': 0.0, 'arimumbai': 1.0, 'aribangalore': 1.0, 'ariparis': 0.8, 'ariseattle': 0.0, 'ariseoul': 1.0, 'arisiliconvalley': 0.0, 'arisingapore': 0.0, 'aristockholm': 0.0, 'aritokyo': 0.0, 'aritoronto': 0.8, 'arila': 0.0, 'ariwarsaw': 1.0, 'arinj2': 0.0, 'arijohannesburg': 0.6, 'arisaopaulo': 1.0}, 'aritokyo': {'ariatlanta': 1.0, 'ariamsterdam': 1.0, 'arichicago': 0.0, 'aridallas': 0.2, 'arifrance': 1.0, 'arilondon': 1.0, 'arimadrid': 1.0, 'arimelbourne': 1.0, 'arimexicocity': 0.2, 'arimiami': 0.0, 'arimumbai': 1.0, 'aribangalore': 0.6, 'ariparis': 1.0, 'ariseattle': 0.2, 'ariseoul': 1.0, 'arisiliconvalley': 1.0, 'arisingapore': 0.8, 'aristockholm': 1.0, 'arisidney': 1.0, 'aritoronto': 0.8, 'arila': 0.0, 'ariwarsaw': 1.0, 'arinj2': 0.0, 'arijohannesburg': 1.0, 'arisaopaulo': 1.0}, 'aritoronto': {'ariatlanta': 0.0, 'ariamsterdam': 1.0, 'arichicago': 0.0, 'aridallas': 1.0, 'arifrance': 1.0, 'arilondon': 1.0, 'arimadrid': 1.0, 'arimelbourne': 1.0, 'arimexicocity': 1.0, 'arimiami': 1.0, 'arimumbai': 1.0, 'aribangalore': 0.0, 'ariparis': 1.0, 'ariseattle': 0.8, 'ariseoul': 0.0, 'arisiliconvalley': 0.8, 'arisingapore': 0.0, 'aristockholm': 1.0, 'arisidney': 0.8, 'aritokyo': 1.0, 'arila': 0.4, 'ariwarsaw': 1.0, 'arinj2': 0.6, 'arijohannesburg': 1.0, 'arisaopaulo': 1.0}, 'arila': {'ariatlanta': 1.0, 'ariamsterdam': 1.0, 'arichicago': 0.4, 'aridallas': 0.4, 'arifrance': 1.0, 'arilondon': 1.0, 'arimadrid': 1.0, 'arimelbourne': 1.0, 'arimexicocity': 1.0, 'arimiami': 0.4, 'arimumbai': 1.0, 'aribangalore': 1.0, 'ariparis': 1.0, 'ariseattle': 1.0, 'ariseoul': 1.0, 'arisiliconvalley': 1.0, 'arisingapore': 0.4, 'aristockholm': 1.0, 'arisidney': 1.0, 'aritokyo': 1.0, 'aritoronto': 1.0, 'ariwarsaw': 1.0, 'arinj2': 0.2, 'arijohannesburg': 1.0, 'arisaopaulo': 1.0}, 'ariwarsaw': {'ariatlanta': 1.0, 'ariamsterdam': 0.0, 'arichicago': 0.0, 'aridallas': 0.0, 'arifrance': 0.0, 'arilondon': 0.0, 'arimadrid': 1.0, 'arimelbourne': 1.0, 'arimexicocity': 0.2, 'arimiami': 0.4, 'arimumbai': 1.0, 'aribangalore': 0.0, 'ariparis': 0.0, 'ariseattle': 0.2, 'ariseoul': 0.2, 'arisiliconvalley': 1.0, 'arisingapore': 0.0, 'aristockholm': 0.8, 'arisidney': 1.0, 'aritokyo': 0.0, 'aritoronto': 0.4, 'arila': 0.0, 'arinj2': 0.0, 'arijohannesburg': 1.0, 'arisaopaulo': 1.0}, 'arinj2': {'ariatlanta': 1.0, 'ariamsterdam': 1.0, 'arichicago': 0.4, 'aridallas': 1.0, 'arifrance': 1.0, 'arilondon': 1.0, 'arimadrid': 1.0, 'arimelbourne': 1.0, 'arimexicocity': 1.0, 'arimiami': 1.0, 'arimumbai': 1.0, 'aribangalore': 1.0, 'ariparis': 1.0, 'ariseattle': 1.0, 'ariseoul': 1.0, 'arisiliconvalley': 1.0, 'arisingapore': 0.8, 'aristockholm': 1.0, 'arisidney': 1.0, 'aritokyo': 1.0, 'aritoronto': 0.8, 'arila': 1.0, 'ariwarsaw': 1.0, 'arijohannesburg': 1.0, 'arisaopaulo': 1.0}, 'arijohannesburg': {'ariatlanta': 1.0, 'ariamsterdam': 0.8, 'arichicago': 0.2, 'aridallas': 0.0, 'arifrance': 0.0, 'arilondon': 0.0, 'arimadrid': 0.6, 'arimelbourne': 1.0, 'arimexicocity': 1.0, 'arimiami': 0.2, 'arimumbai': 1.0, 'aribangalore': 1.0, 'ariparis': 1.0, 'ariseattle': 0.2, 'ariseoul': 0.8, 'arisiliconvalley': 0.4, 'arisingapore': 0.2, 'aristockholm': 0.4, 'arisidney': 1.0, 'aritokyo': 0.4, 'aritoronto': 1.0, 'arila': 0.2, 'ariwarsaw': 1.0, 'arinj2': 0.2, 'arisaopaulo': 1.0}, 'arisaopaulo': {'ariatlanta': 0.0, 'ariamsterdam': 0.0, 'arichicago': 0.0, 'aridallas': 0.2, 'arifrance': 0.2, 'arilondon': 0.0, 'arimadrid': 0.0, 'arimelbourne': 1.0, 'arimexicocity': 0.2, 'arimiami': 0.0, 'arimumbai': 1.0, 'aribangalore': 0.0, 'ariparis': 0.0, 'ariseattle': 0.0, 'ariseoul': 0.0, 'arisiliconvalley': 0.4, 'arisingapore': 0.0, 'aristockholm': 0.2, 'arisidney': 1.0, 'aritokyo': 0.0, 'aritoronto': 0.0, 'arila': 0.0, 'ariwarsaw': 0.0, 'arinj2': 0.0, 'arijohannesburg': 0.8}}\n"
          ]
        }
      ]
    },
    {
      "cell_type": "code",
      "source": [
        "# le\n",
        "le_avg_res = {}\n",
        "le_run_avg = 0\n",
        "\n",
        "for victim in le:\n",
        "  v_stat = {}\n",
        "  for adversary in le[victim]:\n",
        "    v_stat[adversary] = 0\n",
        "    for item in le[victim][adversary]:\n",
        "       count = len(item)\n",
        "       if(count > le_total - le_quorum):\n",
        "        v_stat[adversary] += 1\n",
        "        le_run_avg += 1\n",
        "  le_avg_res[victim] = v_stat\n",
        "\n",
        "le_run_avg /= (num_nodes)*(num_nodes - 1)\n",
        "print(le_run_avg)\n",
        "\n",
        "print(le_avg_res)"
      ],
      "metadata": {
        "colab": {
          "base_uri": "https://localhost:8080/"
        },
        "id": "W9xHYGbqMIIT",
        "outputId": "fc284d82-e09f-4a94-8107-22afd4510793"
      },
      "execution_count": 17,
      "outputs": [
        {
          "output_type": "stream",
          "name": "stdout",
          "text": [
            "0.23076923076923078\n",
            "{'ariatlanta': {'ariamsterdam': 0, 'arichicago': 0, 'aridallas': 0, 'arifrance': 1, 'arilondon': 1, 'arimadrid': 0, 'arimelbourne': 1, 'arimexicocity': 0, 'arimiami': 0, 'arimumbai': 0, 'aribangalore': 0, 'ariparis': 0, 'ariseattle': 0, 'ariseoul': 0, 'arisiliconvalley': 0, 'arisingapore': 0, 'aristockholm': 0, 'arisidney': 0, 'aritokyo': 1, 'aritoronto': 0, 'arila': 0, 'ariwarsaw': 0, 'arinj2': 0, 'arijohannesburg': 0, 'arisaopaulo': 0}, 'ariamsterdam': {'ariatlanta': 0, 'arichicago': 0, 'aridallas': 0, 'arifrance': 0, 'arilondon': 0, 'arimadrid': 0, 'arimelbourne': 1, 'arimexicocity': 0, 'arimiami': 0, 'arimumbai': 0, 'aribangalore': 0, 'ariparis': 0, 'ariseattle': 0, 'ariseoul': 0, 'arisiliconvalley': 0, 'arisingapore': 0, 'aristockholm': 0, 'arisidney': 0, 'aritokyo': 0, 'aritoronto': 0, 'arila': 0, 'ariwarsaw': 0, 'arinj2': 0, 'arijohannesburg': 0, 'arisaopaulo': 0}, 'arichicago': {'ariatlanta': 1, 'ariamsterdam': 0, 'aridallas': 0, 'arifrance': 0, 'arilondon': 1, 'arimadrid': 1, 'arimelbourne': 1, 'arimexicocity': 0, 'arimiami': 0, 'arimumbai': 0, 'aribangalore': 1, 'ariparis': 0, 'ariseattle': 0, 'ariseoul': 1, 'arisiliconvalley': 0, 'arisingapore': 0, 'aristockholm': 0, 'arisidney': 0, 'aritokyo': 0, 'aritoronto': 0, 'arila': 0, 'ariwarsaw': 0, 'arinj2': 0, 'arijohannesburg': 1, 'arisaopaulo': 1}, 'aridallas': {'ariatlanta': 1, 'ariamsterdam': 1, 'arichicago': 0, 'arifrance': 1, 'arilondon': 0, 'arimadrid': 1, 'arimelbourne': 0, 'arimexicocity': 1, 'arimiami': 0, 'arimumbai': 1, 'aribangalore': 1, 'ariparis': 0, 'ariseattle': 0, 'ariseoul': 1, 'arisiliconvalley': 0, 'arisingapore': 0, 'aristockholm': 0, 'arisidney': 0, 'aritokyo': 1, 'aritoronto': 0, 'arila': 0, 'ariwarsaw': 0, 'arinj2': 0, 'arijohannesburg': 1, 'arisaopaulo': 1}, 'arifrance': {'ariatlanta': 0, 'ariamsterdam': 0, 'arichicago': 0, 'aridallas': 0, 'arilondon': 0, 'arimadrid': 0, 'arimelbourne': 1, 'arimexicocity': 0, 'arimiami': 0, 'arimumbai': 0, 'aribangalore': 0, 'ariparis': 0, 'ariseattle': 0, 'ariseoul': 0, 'arisiliconvalley': 0, 'arisingapore': 0, 'aristockholm': 0, 'arisidney': 0, 'aritokyo': 0, 'aritoronto': 0, 'arila': 0, 'ariwarsaw': 0, 'arinj2': 0, 'arijohannesburg': 0, 'arisaopaulo': 0}, 'arilondon': {'ariatlanta': 0, 'ariamsterdam': 1, 'arichicago': 0, 'aridallas': 0, 'arifrance': 0, 'arimadrid': 0, 'arimelbourne': 1, 'arimexicocity': 0, 'arimiami': 0, 'arimumbai': 0, 'aribangalore': 0, 'ariparis': 0, 'ariseattle': 0, 'ariseoul': 0, 'arisiliconvalley': 0, 'arisingapore': 0, 'aristockholm': 0, 'arisidney': 0, 'aritokyo': 0, 'aritoronto': 0, 'arila': 0, 'ariwarsaw': 0, 'arinj2': 0, 'arijohannesburg': 0, 'arisaopaulo': 1}, 'arimadrid': {'ariatlanta': 0, 'ariamsterdam': 1, 'arichicago': 0, 'aridallas': 0, 'arifrance': 0, 'arilondon': 0, 'arimelbourne': 1, 'arimexicocity': 0, 'arimiami': 0, 'arimumbai': 0, 'aribangalore': 0, 'ariparis': 0, 'ariseattle': 0, 'ariseoul': 0, 'arisiliconvalley': 0, 'arisingapore': 0, 'aristockholm': 0, 'arisidney': 0, 'aritokyo': 0, 'aritoronto': 0, 'arila': 0, 'ariwarsaw': 0, 'arinj2': 0, 'arijohannesburg': 0, 'arisaopaulo': 1}, 'arimelbourne': {'ariatlanta': 0, 'ariamsterdam': 0, 'arichicago': 0, 'aridallas': 0, 'arifrance': 0, 'arilondon': 0, 'arimadrid': 0, 'arimexicocity': 0, 'arimiami': 0, 'arimumbai': 0, 'aribangalore': 0, 'ariparis': 0, 'ariseattle': 0, 'ariseoul': 0, 'arisiliconvalley': 0, 'arisingapore': 0, 'aristockholm': 0, 'arisidney': 0, 'aritokyo': 0, 'aritoronto': 0, 'arila': 0, 'ariwarsaw': 0, 'arinj2': 0, 'arijohannesburg': 0, 'arisaopaulo': 0}, 'arimexicocity': {'ariatlanta': 0, 'ariamsterdam': 1, 'arichicago': 0, 'aridallas': 0, 'arifrance': 0, 'arilondon': 1, 'arimadrid': 0, 'arimelbourne': 0, 'arimiami': 0, 'arimumbai': 1, 'aribangalore': 1, 'ariparis': 0, 'ariseattle': 0, 'ariseoul': 0, 'arisiliconvalley': 0, 'arisingapore': 0, 'aristockholm': 0, 'arisidney': 0, 'aritokyo': 1, 'aritoronto': 0, 'arila': 0, 'ariwarsaw': 0, 'arinj2': 0, 'arijohannesburg': 1, 'arisaopaulo': 1}, 'arimiami': {'ariatlanta': 0, 'ariamsterdam': 1, 'arichicago': 0, 'aridallas': 0, 'arifrance': 1, 'arilondon': 1, 'arimadrid': 1, 'arimelbourne': 1, 'arimexicocity': 1, 'arimumbai': 1, 'aribangalore': 1, 'ariparis': 1, 'ariseattle': 0, 'ariseoul': 0, 'arisiliconvalley': 0, 'arisingapore': 0, 'aristockholm': 0, 'arisidney': 0, 'aritokyo': 1, 'aritoronto': 0, 'arila': 0, 'ariwarsaw': 0, 'arinj2': 0, 'arijohannesburg': 1, 'arisaopaulo': 1}, 'arimumbai': {'ariatlanta': 0, 'ariamsterdam': 0, 'arichicago': 0, 'aridallas': 0, 'arifrance': 0, 'arilondon': 0, 'arimadrid': 0, 'arimelbourne': 0, 'arimexicocity': 0, 'arimiami': 0, 'aribangalore': 1, 'ariparis': 0, 'ariseattle': 0, 'ariseoul': 0, 'arisiliconvalley': 0, 'arisingapore': 0, 'aristockholm': 0, 'arisidney': 0, 'aritokyo': 0, 'aritoronto': 0, 'arila': 0, 'ariwarsaw': 0, 'arinj2': 0, 'arijohannesburg': 0, 'arisaopaulo': 0}, 'aribangalore': {'ariatlanta': 0, 'ariamsterdam': 0, 'arichicago': 0, 'aridallas': 0, 'arifrance': 0, 'arilondon': 0, 'arimadrid': 0, 'arimelbourne': 0, 'arimexicocity': 0, 'arimiami': 0, 'arimumbai': 0, 'ariparis': 0, 'ariseattle': 0, 'ariseoul': 0, 'arisiliconvalley': 0, 'arisingapore': 0, 'aristockholm': 0, 'arisidney': 0, 'aritokyo': 0, 'aritoronto': 0, 'arila': 0, 'ariwarsaw': 0, 'arinj2': 0, 'arijohannesburg': 0, 'arisaopaulo': 0}, 'ariparis': {'ariatlanta': 0, 'ariamsterdam': 0, 'arichicago': 0, 'aridallas': 0, 'arifrance': 0, 'arilondon': 0, 'arimadrid': 0, 'arimelbourne': 1, 'arimexicocity': 0, 'arimiami': 0, 'arimumbai': 0, 'aribangalore': 0, 'ariseattle': 0, 'ariseoul': 0, 'arisiliconvalley': 0, 'arisingapore': 0, 'aristockholm': 0, 'arisidney': 0, 'aritokyo': 0, 'aritoronto': 0, 'arila': 0, 'ariwarsaw': 0, 'arinj2': 0, 'arijohannesburg': 0, 'arisaopaulo': 0}, 'ariseattle': {'ariatlanta': 0, 'ariamsterdam': 1, 'arichicago': 0, 'aridallas': 0, 'arifrance': 1, 'arilondon': 1, 'arimadrid': 0, 'arimelbourne': 1, 'arimexicocity': 0, 'arimiami': 0, 'arimumbai': 1, 'aribangalore': 1, 'ariparis': 1, 'ariseoul': 0, 'arisiliconvalley': 0, 'arisingapore': 1, 'aristockholm': 1, 'arisidney': 1, 'aritokyo': 1, 'aritoronto': 0, 'arila': 0, 'ariwarsaw': 0, 'arinj2': 0, 'arijohannesburg': 1, 'arisaopaulo': 1}, 'ariseoul': {'ariatlanta': 0, 'ariamsterdam': 0, 'arichicago': 0, 'aridallas': 0, 'arifrance': 0, 'arilondon': 0, 'arimadrid': 0, 'arimelbourne': 1, 'arimexicocity': 0, 'arimiami': 0, 'arimumbai': 0, 'aribangalore': 0, 'ariparis': 0, 'ariseattle': 0, 'arisiliconvalley': 0, 'arisingapore': 0, 'aristockholm': 0, 'arisidney': 0, 'aritokyo': 0, 'aritoronto': 0, 'arila': 0, 'ariwarsaw': 0, 'arinj2': 0, 'arijohannesburg': 0, 'arisaopaulo': 0}, 'arisiliconvalley': {'ariatlanta': 0, 'ariamsterdam': 0, 'arichicago': 0, 'aridallas': 0, 'arifrance': 1, 'arilondon': 1, 'arimadrid': 1, 'arimelbourne': 0, 'arimexicocity': 0, 'arimiami': 0, 'arimumbai': 1, 'aribangalore': 0, 'ariparis': 1, 'ariseattle': 0, 'ariseoul': 1, 'arisingapore': 1, 'aristockholm': 0, 'arisidney': 1, 'aritokyo': 1, 'aritoronto': 0, 'arila': 0, 'ariwarsaw': 0, 'arinj2': 0, 'arijohannesburg': 0, 'arisaopaulo': 0}, 'arisingapore': {'ariatlanta': 0, 'ariamsterdam': 1, 'arichicago': 0, 'aridallas': 0, 'arifrance': 0, 'arilondon': 1, 'arimadrid': 1, 'arimelbourne': 1, 'arimexicocity': 0, 'arimiami': 0, 'arimumbai': 1, 'aribangalore': 0, 'ariparis': 0, 'ariseattle': 0, 'ariseoul': 0, 'arisiliconvalley': 0, 'aristockholm': 0, 'arisidney': 1, 'aritokyo': 0, 'aritoronto': 0, 'arila': 0, 'ariwarsaw': 0, 'arinj2': 0, 'arijohannesburg': 0, 'arisaopaulo': 0}, 'aristockholm': {'ariatlanta': 0, 'ariamsterdam': 0, 'arichicago': 0, 'aridallas': 0, 'arifrance': 0, 'arilondon': 0, 'arimadrid': 0, 'arimelbourne': 1, 'arimexicocity': 0, 'arimiami': 0, 'arimumbai': 1, 'aribangalore': 0, 'ariparis': 0, 'ariseattle': 0, 'ariseoul': 0, 'arisiliconvalley': 0, 'arisingapore': 0, 'arisidney': 0, 'aritokyo': 0, 'aritoronto': 0, 'arila': 0, 'ariwarsaw': 0, 'arinj2': 0, 'arijohannesburg': 0, 'arisaopaulo': 0}, 'arisidney': {'ariatlanta': 0, 'ariamsterdam': 0, 'arichicago': 0, 'aridallas': 0, 'arifrance': 0, 'arilondon': 0, 'arimadrid': 0, 'arimelbourne': 1, 'arimexicocity': 0, 'arimiami': 0, 'arimumbai': 1, 'aribangalore': 0, 'ariparis': 0, 'ariseattle': 0, 'ariseoul': 0, 'arisiliconvalley': 0, 'arisingapore': 0, 'aristockholm': 0, 'aritokyo': 0, 'aritoronto': 0, 'arila': 0, 'ariwarsaw': 0, 'arinj2': 0, 'arijohannesburg': 0, 'arisaopaulo': 0}, 'aritokyo': {'ariatlanta': 0, 'ariamsterdam': 1, 'arichicago': 0, 'aridallas': 0, 'arifrance': 1, 'arilondon': 0, 'arimadrid': 0, 'arimelbourne': 1, 'arimexicocity': 0, 'arimiami': 0, 'arimumbai': 0, 'aribangalore': 0, 'ariparis': 1, 'ariseattle': 0, 'ariseoul': 0, 'arisiliconvalley': 0, 'arisingapore': 0, 'aristockholm': 0, 'arisidney': 0, 'aritoronto': 0, 'arila': 0, 'ariwarsaw': 0, 'arinj2': 0, 'arijohannesburg': 0, 'arisaopaulo': 0}, 'aritoronto': {'ariatlanta': 0, 'ariamsterdam': 1, 'arichicago': 0, 'aridallas': 0, 'arifrance': 1, 'arilondon': 0, 'arimadrid': 1, 'arimelbourne': 1, 'arimexicocity': 0, 'arimiami': 0, 'arimumbai': 1, 'aribangalore': 1, 'ariparis': 1, 'ariseattle': 0, 'ariseoul': 0, 'arisiliconvalley': 0, 'arisingapore': 1, 'aristockholm': 1, 'arisidney': 1, 'aritokyo': 1, 'arila': 0, 'ariwarsaw': 1, 'arinj2': 0, 'arijohannesburg': 1, 'arisaopaulo': 0}, 'arila': {'ariatlanta': 0, 'ariamsterdam': 1, 'arichicago': 0, 'aridallas': 0, 'arifrance': 1, 'arilondon': 1, 'arimadrid': 1, 'arimelbourne': 0, 'arimexicocity': 1, 'arimiami': 0, 'arimumbai': 1, 'aribangalore': 0, 'ariparis': 1, 'ariseattle': 0, 'ariseoul': 1, 'arisiliconvalley': 1, 'arisingapore': 1, 'aristockholm': 1, 'arisidney': 0, 'aritokyo': 1, 'aritoronto': 0, 'ariwarsaw': 1, 'arinj2': 0, 'arijohannesburg': 1, 'arisaopaulo': 0}, 'ariwarsaw': {'ariatlanta': 0, 'ariamsterdam': 0, 'arichicago': 0, 'aridallas': 0, 'arifrance': 1, 'arilondon': 0, 'arimadrid': 0, 'arimelbourne': 1, 'arimexicocity': 0, 'arimiami': 0, 'arimumbai': 1, 'aribangalore': 0, 'ariparis': 0, 'ariseattle': 0, 'ariseoul': 0, 'arisiliconvalley': 0, 'arisingapore': 1, 'aristockholm': 1, 'arisidney': 1, 'aritokyo': 1, 'aritoronto': 0, 'arila': 0, 'arinj2': 0, 'arijohannesburg': 0, 'arisaopaulo': 1}, 'arinj2': {'ariatlanta': 1, 'ariamsterdam': 1, 'arichicago': 0, 'aridallas': 0, 'arifrance': 1, 'arilondon': 1, 'arimadrid': 1, 'arimelbourne': 1, 'arimexicocity': 1, 'arimiami': 1, 'arimumbai': 0, 'aribangalore': 1, 'ariparis': 1, 'ariseattle': 0, 'ariseoul': 1, 'arisiliconvalley': 0, 'arisingapore': 1, 'aristockholm': 1, 'arisidney': 0, 'aritokyo': 1, 'aritoronto': 0, 'arila': 0, 'ariwarsaw': 1, 'arijohannesburg': 1, 'arisaopaulo': 1}, 'arijohannesburg': {'ariatlanta': 0, 'ariamsterdam': 0, 'arichicago': 0, 'aridallas': 0, 'arifrance': 0, 'arilondon': 0, 'arimadrid': 0, 'arimelbourne': 1, 'arimexicocity': 0, 'arimiami': 0, 'arimumbai': 1, 'aribangalore': 0, 'ariparis': 0, 'ariseattle': 0, 'ariseoul': 0, 'arisiliconvalley': 0, 'arisingapore': 0, 'aristockholm': 0, 'arisidney': 1, 'aritokyo': 0, 'aritoronto': 0, 'arila': 0, 'ariwarsaw': 0, 'arinj2': 0, 'arisaopaulo': 0}, 'arisaopaulo': {'ariatlanta': 0, 'ariamsterdam': 0, 'arichicago': 0, 'aridallas': 0, 'arifrance': 0, 'arilondon': 0, 'arimadrid': 0, 'arimelbourne': 1, 'arimexicocity': 0, 'arimiami': 0, 'arimumbai': 1, 'aribangalore': 0, 'ariparis': 0, 'ariseattle': 0, 'ariseoul': 0, 'arisiliconvalley': 0, 'arisingapore': 1, 'aristockholm': 1, 'arisidney': 1, 'aritokyo': 1, 'aritoronto': 0, 'arila': 0, 'ariwarsaw': 0, 'arinj2': 0, 'arijohannesburg': 0}}\n"
          ]
        }
      ]
    }
  ]
}